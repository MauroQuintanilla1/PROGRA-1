{
  "nbformat": 4,
  "nbformat_minor": 0,
  "metadata": {
    "colab": {
      "provenance": [],
      "authorship_tag": "ABX9TyO/tB8r+bFQ30VKANs3p6fx",
      "include_colab_link": true
    },
    "kernelspec": {
      "name": "python3",
      "display_name": "Python 3"
    },
    "language_info": {
      "name": "python"
    }
  },
  "cells": [
    {
      "cell_type": "markdown",
      "metadata": {
        "id": "view-in-github",
        "colab_type": "text"
      },
      "source": [
        "<a href=\"https://colab.research.google.com/github/MauroQuintanilla1/PROGRA-1/blob/main/Fundamentos_de_python.ipynb\" target=\"_parent\"><img src=\"https://colab.research.google.com/assets/colab-badge.svg\" alt=\"Open In Colab\"/></a>"
      ]
    },
    {
      "cell_type": "code",
      "execution_count": null,
      "metadata": {
        "colab": {
          "base_uri": "https://localhost:8080/"
        },
        "id": "5k0MV6gZ4g6Z",
        "outputId": "c40bbc26-ef43-411f-a22a-cba517afa98e"
      },
      "outputs": [
        {
          "output_type": "stream",
          "name": "stdout",
          "text": [
            "HOLA MUNDO\n",
            "Hola Mauro Quintanilla inicial M  \n"
          ]
        }
      ],
      "source": [
        "print(\"HOLA MUNDO\")\n",
        "Nombre= \"Mauro Quintanilla\"\n",
        "\n",
        "print (\"Hola\", Nombre,\"inicial\", Nombre[0],Nombre[5])"
      ]
    },
    {
      "cell_type": "markdown",
      "source": [
        "EJERCICIO, CREAR UN PROGRAMA EN PHYTON QUE SUME DOS NUMEROS"
      ],
      "metadata": {
        "id": "G11m775t9tbe"
      }
    },
    {
      "cell_type": "code",
      "source": [
        "num1 = 5\n",
        "num2 = 9.5\n",
        "resp = num1 + num2\n",
        "print (\"la suma es\", resp)"
      ],
      "metadata": {
        "colab": {
          "base_uri": "https://localhost:8080/"
        },
        "id": "_4_RnQ9d9rHi",
        "outputId": "1f6069fd-e043-4b17-cfc2-cd2c216d3ec2"
      },
      "execution_count": null,
      "outputs": [
        {
          "output_type": "stream",
          "name": "stdout",
          "text": [
            "la suma es 14.5\n"
          ]
        }
      ]
    },
    {
      "cell_type": "markdown",
      "source": [
        "EJERCICIO, CREAR UN PROGRAMA DE PYTHON  QUE SUME DOS NUMEROS INTRODUCIDOS POR USUARIOS\n"
      ],
      "metadata": {
        "id": "G-nAzs50_Rzb"
      }
    },
    {
      "cell_type": "code",
      "source": [
        "# prompt: EJERCICIO, CREAR UN PROGRAMA DE PYTHON QUE SUME DOS NUMEROS INTRODUCIDOS POR USUARIOS\n",
        "\n",
        "num1 = float(input(\"Introduce el primer número: \"))\n",
        "num2 = float(input(\"Introduce el segundo número: \"))\n",
        "suma = num1 + num2\n",
        "print(\"La suma de\", num1, \"y\", num2, \"es igual a\", suma)\n"
      ],
      "metadata": {
        "colab": {
          "base_uri": "https://localhost:8080/"
        },
        "id": "XkW8PDIO_jjm",
        "outputId": "26f7830b-242f-47ac-d65e-e53ddbdcf8ef"
      },
      "execution_count": null,
      "outputs": [
        {
          "output_type": "stream",
          "name": "stdout",
          "text": [
            "Introduce el primer número: 8\n",
            "Introduce el segundo número: 9\n",
            "La suma de 8.0 y 9.0 es igual a 17.0\n"
          ]
        }
      ]
    },
    {
      "cell_type": "code",
      "source": [
        "#tipo de datos\n",
        "num1 = 5\n",
        "num2 = 5.9\n",
        "nombre = \"Mauro Quintanilla\"\n",
        "print(nombre[0:4], nombre [:4],nombre [-5], nombre [5:len(nombre)])\n",
        "\n",
        "estado = True\n",
        "print(type(nombre), type(num1), type(num2), type (estado) )\n"
      ],
      "metadata": {
        "colab": {
          "base_uri": "https://localhost:8080/"
        },
        "id": "CNOd_eZVCILD",
        "outputId": "3ba976f7-5758-4542-ae29-b215bfed3b5d"
      },
      "execution_count": null,
      "outputs": [
        {
          "output_type": "stream",
          "name": "stdout",
          "text": [
            "Maur Maur n  Quintanilla\n",
            "<class 'str'> <class 'int'> <class 'float'> <class 'bool'>\n"
          ]
        }
      ]
    },
    {
      "cell_type": "markdown",
      "source": [
        "EJERCIO CREE UN PROGRAMA EN PYTHON QUE LEA UN NUMERO Y DETERMINE SI ES PAR O IMPAR"
      ],
      "metadata": {
        "id": "Ptbnio-LE7iQ"
      }
    },
    {
      "cell_type": "code",
      "source": [
        "# prompt: EJERCIO CREE UN PROGRAMA EN PYTHON QUE LEA UN NUMERO Y DETERMINE SI ES PAR O IMPAR\n",
        "\n",
        "numero = int(input(\"Introduce un número: \"))\n",
        "if numero % 2 == 0:\n",
        "  print(numero, \"es un número par.\")\n",
        "else:\n",
        "  print(numero, \"es un número impar.\")\n"
      ],
      "metadata": {
        "colab": {
          "base_uri": "https://localhost:8080/"
        },
        "id": "d6f34bIfD7s1",
        "outputId": "d30a5242-ca93-41a4-94db-35b931970947"
      },
      "execution_count": null,
      "outputs": [
        {
          "output_type": "stream",
          "name": "stdout",
          "text": [
            "Introduce un número: 7\n",
            "7 es un número impar.\n"
          ]
        }
      ]
    },
    {
      "cell_type": "markdown",
      "source": [
        "EJERCICIO: CONVERTIR GRADOS CELSIUS A FARANHEIT, USANDO FUNCIONES DE USUARIO\n"
      ],
      "metadata": {
        "id": "xCZiQE9Pa7bf"
      }
    },
    {
      "cell_type": "code",
      "source": [
        "def CONERVTIR_cf(c):\n",
        "    return 32+ c*1.8"
      ],
      "metadata": {
        "id": "yvGqdzQwbs6e"
      },
      "execution_count": 8,
      "outputs": []
    },
    {
      "cell_type": "code",
      "source": [
        "c = float (input (\"celsisus: \"))\n",
        "print(\"f: \", CONERVTIR_cf(c))\n"
      ],
      "metadata": {
        "colab": {
          "base_uri": "https://localhost:8080/"
        },
        "id": "cO2Nom27f56H",
        "outputId": "59a24549-e427-42aa-8882-aa9f0d502c7f"
      },
      "execution_count": 10,
      "outputs": [
        {
          "output_type": "stream",
          "name": "stdout",
          "text": [
            "celsisus: 33\n",
            "f:  91.4\n"
          ]
        }
      ]
    },
    {
      "cell_type": "markdown",
      "source": [
        "EJERCICIO: DETERMINAR SI UN NUMERO ES PAR O IMPAR\n"
      ],
      "metadata": {
        "id": "o42yHInSgnpE"
      }
    },
    {
      "cell_type": "code",
      "source": [
        "def parImpar(num):\n",
        "  if (num % 2 == 0):\n",
        "    return \"par\"\n",
        "  return \"impar\""
      ],
      "metadata": {
        "id": "P2DL-aimguR6"
      },
      "execution_count": 11,
      "outputs": []
    },
    {
      "cell_type": "markdown",
      "source": [],
      "metadata": {
        "id": "BGsvBkPRhjB4"
      }
    },
    {
      "cell_type": "code",
      "source": [
        "num = int (input (\"num: \"))\n",
        "print (\"El numero  \", num, \"es\", parImpar(num))\n"
      ],
      "metadata": {
        "colab": {
          "base_uri": "https://localhost:8080/"
        },
        "id": "tcc2P8_RhIRs",
        "outputId": "d839ef5f-c261-4add-d134-916bc5dec5d6"
      },
      "execution_count": 12,
      "outputs": [
        {
          "output_type": "stream",
          "name": "stdout",
          "text": [
            "num: 9\n",
            "El numero   9 es impar\n"
          ]
        }
      ]
    },
    {
      "cell_type": "markdown",
      "source": [
        "TAREA (MIERCOLES):\n",
        "1.CONVERTIR GRADOS FARENHEITS A CELSIUS\n",
        "2.CONVERTIR GRADOS [CELSISUS Y FARENHEITS] A KELVIN"
      ],
      "metadata": {
        "id": "pI2ox41ihlcq"
      }
    },
    {
      "cell_type": "markdown",
      "source": [
        "\n",
        "EJERCICIO: CALCULAR EL SUELDO DE UN TRABAJADOR\n",
        "\n",
        "\n",
        "\n"
      ],
      "metadata": {
        "id": "jADED0ZBiId3"
      }
    },
    {
      "cell_type": "code",
      "source": [
        "def sueldo(numhrs, valorxhrs):\n",
        " sueldo = numhrs * valorxhrs * 30\n",
        " if numhrs > 8:\n",
        "  sueldo = sueldo + (numhrs - 8) * valorxhrs *30\n",
        "  return sueldo"
      ],
      "metadata": {
        "id": "Xn2nqFqpiZPS"
      },
      "execution_count": 32,
      "outputs": []
    },
    {
      "cell_type": "code",
      "source": [
        "numhrs = int(input(\"horas: \"))\n",
        "valorxhrs = float(input(\"valor: \"))\n",
        "print(\"sueldo: \", sueldo(numhrs, valorxhrs))\n"
      ],
      "metadata": {
        "colab": {
          "base_uri": "https://localhost:8080/"
        },
        "id": "I6cuHM7EkXq4",
        "outputId": "88b6232d-29c0-49e6-cf8a-0aa405d24e34"
      },
      "execution_count": 33,
      "outputs": [
        {
          "output_type": "stream",
          "name": "stdout",
          "text": [
            "horas: 8\n",
            "valor: 1.5\n",
            "sueldo:  None\n"
          ]
        }
      ]
    }
  ]
}